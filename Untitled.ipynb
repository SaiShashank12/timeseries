{
 "cells": [
  {
   "cell_type": "code",
   "execution_count": null,
   "metadata": {},
   "outputs": [],
   "source": []
  },
  {
   "cell_type": "code",
   "execution_count": 186,
   "metadata": {},
   "outputs": [],
   "source": [
    "import pandas as pd\n",
    "import numpy\n",
    "import matplotlib.pyplot as plt\n",
    "import pandas\n",
    "import math\n",
    "from tensorflow.keras.models import Sequential\n",
    "from tensorflow.keras import layers\n",
    "from tensorflow.keras.layers import TimeDistributed\n",
    "import quandl\n",
    "\n",
    "from sklearn.preprocessing import MinMaxScaler\n",
    "from sklearn.metrics import mean_squared_error"
   ]
  },
  {
   "cell_type": "code",
   "execution_count": 187,
   "metadata": {},
   "outputs": [],
   "source": [
    "model = Sequential([\n",
    "    layers.LSTM(8, input_shape=trainX.shape[-2:]),\n",
    "    layers.Dense(1)\n",
    "])"
   ]
  },
  {
   "cell_type": "code",
   "execution_count": 188,
   "metadata": {},
   "outputs": [],
   "source": [
    "quandl.ApiConfig.api_key = 'knewsUunFYUMpN7y7xKn'\n",
    "data = quandl.get('BSE/BOM500325')"
   ]
  },
  {
   "cell_type": "code",
   "execution_count": 189,
   "metadata": {},
   "outputs": [],
   "source": [
    "df =pd.read_csv('Close.csv')"
   ]
  },
  {
   "cell_type": "code",
   "execution_count": 190,
   "metadata": {},
   "outputs": [],
   "source": [
    "df =data[\"Open\"]"
   ]
  },
  {
   "cell_type": "code",
   "execution_count": 191,
   "metadata": {},
   "outputs": [],
   "source": [
    "df= df.to_frame()"
   ]
  },
  {
   "cell_type": "code",
   "execution_count": 192,
   "metadata": {},
   "outputs": [
    {
     "data": {
      "text/plain": [
       "array([[ 115.  ],\n",
       "       [ 107.5 ],\n",
       "       [ 105.  ],\n",
       "       ...,\n",
       "       [1582.  ],\n",
       "       [1578.  ],\n",
       "       [1534.75]])"
      ]
     },
     "execution_count": 192,
     "metadata": {},
     "output_type": "execute_result"
    }
   ],
   "source": [
    "dataset =df.values\n",
    "dataset"
   ]
  },
  {
   "cell_type": "code",
   "execution_count": 193,
   "metadata": {},
   "outputs": [],
   "source": [
    "dataset=dataset.astype('float32')"
   ]
  },
  {
   "cell_type": "code",
   "execution_count": 194,
   "metadata": {},
   "outputs": [],
   "source": [
    "scaler = MinMaxScaler(feature_range=(0, 1))\n",
    "dataset = scaler.fit_transform(dataset)"
   ]
  },
  {
   "cell_type": "code",
   "execution_count": 195,
   "metadata": {},
   "outputs": [
    {
     "name": "stdout",
     "output_type": "stream",
     "text": [
      "4752 2342\n"
     ]
    }
   ],
   "source": [
    "train_size = int(len(dataset) * 0.67)\n",
    "test_size = len(dataset) - train_size\n",
    "train, test = dataset[0:train_size,:], dataset[train_size:len(dataset),:]\n",
    "print(len(train), len(test))"
   ]
  },
  {
   "cell_type": "code",
   "execution_count": 196,
   "metadata": {},
   "outputs": [],
   "source": [
    "# convert an array of values into a dataset matrix\n",
    "def create_dataset(dataset, look_back=1):\n",
    "\tdataX, dataY = [], []\n",
    "\tfor i in range(len(dataset)-look_back-1):\n",
    "\t\ta = dataset[i:(i+look_back), 0]\n",
    "\t\tdataX.append(a)\n",
    "\t\tdataY.append(dataset[i + look_back, 0])\n",
    "\treturn numpy.array(dataX), numpy.array(dataY)"
   ]
  },
  {
   "cell_type": "code",
   "execution_count": 197,
   "metadata": {},
   "outputs": [],
   "source": [
    "# reshape into X=t and Y=t+1\n",
    "look_back = 1\n",
    "trainX, trainY = create_dataset(train, look_back)\n",
    "testX, testY = create_dataset(test, look_back)"
   ]
  },
  {
   "cell_type": "code",
   "execution_count": 198,
   "metadata": {},
   "outputs": [],
   "source": [
    "\n",
    "# reshape input to be [samples, time steps, features]\n",
    "trainX = numpy.reshape(trainX, (trainX.shape[0], 1, trainX.shape[1]))\n",
    "testX = numpy.reshape(testX, (testX.shape[0], 1, testX.shape[1]))"
   ]
  },
  {
   "cell_type": "code",
   "execution_count": 199,
   "metadata": {},
   "outputs": [
    {
     "name": "stdout",
     "output_type": "stream",
     "text": [
      "Train on 4750 samples\n",
      "Epoch 1/100\n",
      "4750/4750 - 7s - loss: 0.0217\n",
      "Epoch 2/100\n",
      "4750/4750 - 5s - loss: 0.0056\n",
      "Epoch 3/100\n",
      "4750/4750 - 5s - loss: 0.0055\n",
      "Epoch 4/100\n",
      "4750/4750 - 5s - loss: 0.0056\n",
      "Epoch 5/100\n",
      "4750/4750 - 5s - loss: 0.0054\n",
      "Epoch 6/100\n",
      "4750/4750 - 5s - loss: 0.0055\n",
      "Epoch 7/100\n",
      "4750/4750 - 5s - loss: 0.0055\n",
      "Epoch 8/100\n",
      "4750/4750 - 5s - loss: 0.0055\n",
      "Epoch 9/100\n",
      "4750/4750 - 5s - loss: 0.0055\n",
      "Epoch 10/100\n",
      "4750/4750 - 5s - loss: 0.0054\n",
      "Epoch 11/100\n",
      "4750/4750 - 5s - loss: 0.0054\n",
      "Epoch 12/100\n",
      "4750/4750 - 5s - loss: 0.0056\n",
      "Epoch 13/100\n",
      "4750/4750 - 5s - loss: 0.0055\n",
      "Epoch 14/100\n",
      "4750/4750 - 5s - loss: 0.0054\n",
      "Epoch 15/100\n",
      "4750/4750 - 5s - loss: 0.0054\n",
      "Epoch 16/100\n",
      "4750/4750 - 5s - loss: 0.0054\n",
      "Epoch 17/100\n",
      "4750/4750 - 6s - loss: 0.0054\n",
      "Epoch 18/100\n",
      "4750/4750 - 6s - loss: 0.0055\n",
      "Epoch 19/100\n",
      "4750/4750 - 6s - loss: 0.0055\n",
      "Epoch 20/100\n",
      "4750/4750 - 5s - loss: 0.0054\n",
      "Epoch 21/100\n",
      "4750/4750 - 5s - loss: 0.0054\n",
      "Epoch 22/100\n",
      "4750/4750 - 5s - loss: 0.0054\n",
      "Epoch 23/100\n",
      "4750/4750 - 5s - loss: 0.0053\n",
      "Epoch 24/100\n",
      "4750/4750 - 6s - loss: 0.0054\n",
      "Epoch 25/100\n",
      "4750/4750 - 6s - loss: 0.0053\n",
      "Epoch 26/100\n",
      "4750/4750 - 5s - loss: 0.0053\n",
      "Epoch 27/100\n",
      "4750/4750 - 5s - loss: 0.0053\n",
      "Epoch 28/100\n",
      "4750/4750 - 5s - loss: 0.0053\n",
      "Epoch 29/100\n",
      "4750/4750 - 6s - loss: 0.0053\n",
      "Epoch 30/100\n",
      "4750/4750 - 5s - loss: 0.0053\n",
      "Epoch 31/100\n",
      "4750/4750 - 6s - loss: 0.0054\n",
      "Epoch 32/100\n",
      "4750/4750 - 6s - loss: 0.0053\n",
      "Epoch 33/100\n",
      "4750/4750 - 5s - loss: 0.0053\n",
      "Epoch 34/100\n",
      "4750/4750 - 5s - loss: 0.0052\n",
      "Epoch 35/100\n",
      "4750/4750 - 5s - loss: 0.0053\n",
      "Epoch 36/100\n",
      "4750/4750 - 5s - loss: 0.0052\n",
      "Epoch 37/100\n",
      "4750/4750 - 5s - loss: 0.0053\n",
      "Epoch 38/100\n",
      "4750/4750 - 5s - loss: 0.0052\n",
      "Epoch 39/100\n",
      "4750/4750 - 5s - loss: 0.0052\n",
      "Epoch 40/100\n",
      "4750/4750 - 5s - loss: 0.0053\n",
      "Epoch 41/100\n",
      "4750/4750 - 5s - loss: 0.0053\n",
      "Epoch 42/100\n",
      "4750/4750 - 5s - loss: 0.0053\n",
      "Epoch 43/100\n",
      "4750/4750 - 5s - loss: 0.0052\n",
      "Epoch 44/100\n",
      "4750/4750 - 5s - loss: 0.0053\n",
      "Epoch 45/100\n",
      "4750/4750 - 5s - loss: 0.0053\n",
      "Epoch 46/100\n",
      "4750/4750 - 5s - loss: 0.0053\n",
      "Epoch 47/100\n",
      "4750/4750 - 5s - loss: 0.0053\n",
      "Epoch 48/100\n",
      "4750/4750 - 5s - loss: 0.0052\n",
      "Epoch 49/100\n",
      "4750/4750 - 5s - loss: 0.0052\n",
      "Epoch 50/100\n",
      "4750/4750 - 5s - loss: 0.0053\n",
      "Epoch 51/100\n",
      "4750/4750 - 5s - loss: 0.0052\n",
      "Epoch 52/100\n",
      "4750/4750 - 5s - loss: 0.0052\n",
      "Epoch 53/100\n",
      "4750/4750 - 5s - loss: 0.0053\n",
      "Epoch 54/100\n",
      "4750/4750 - 5s - loss: 0.0052\n",
      "Epoch 55/100\n",
      "4750/4750 - 5s - loss: 0.0053\n",
      "Epoch 56/100\n",
      "4750/4750 - 5s - loss: 0.0052\n",
      "Epoch 57/100\n",
      "4750/4750 - 5s - loss: 0.0052\n",
      "Epoch 58/100\n",
      "4750/4750 - 5s - loss: 0.0052\n",
      "Epoch 59/100\n",
      "4750/4750 - 5s - loss: 0.0052\n",
      "Epoch 60/100\n",
      "4750/4750 - 5s - loss: 0.0053\n",
      "Epoch 61/100\n",
      "4750/4750 - 5s - loss: 0.0052\n",
      "Epoch 62/100\n",
      "4750/4750 - 5s - loss: 0.0052\n",
      "Epoch 63/100\n",
      "4750/4750 - 5s - loss: 0.0053\n",
      "Epoch 64/100\n",
      "4750/4750 - 5s - loss: 0.0052\n",
      "Epoch 65/100\n",
      "4750/4750 - 5s - loss: 0.0052\n",
      "Epoch 66/100\n",
      "4750/4750 - 5s - loss: 0.0052\n",
      "Epoch 67/100\n",
      "4750/4750 - 6s - loss: 0.0052\n",
      "Epoch 68/100\n",
      "4750/4750 - 5s - loss: 0.0052\n",
      "Epoch 69/100\n",
      "4750/4750 - 5s - loss: 0.0052\n",
      "Epoch 70/100\n",
      "4750/4750 - 5s - loss: 0.0052\n",
      "Epoch 71/100\n",
      "4750/4750 - 5s - loss: 0.0052\n",
      "Epoch 72/100\n",
      "4750/4750 - 5s - loss: 0.0052\n",
      "Epoch 73/100\n",
      "4750/4750 - 6s - loss: 0.0052\n",
      "Epoch 74/100\n",
      "4750/4750 - 6s - loss: 0.0051\n",
      "Epoch 75/100\n",
      "4750/4750 - 7s - loss: 0.0052\n",
      "Epoch 76/100\n",
      "4750/4750 - 5s - loss: 0.0051\n",
      "Epoch 77/100\n",
      "4750/4750 - 5s - loss: 0.0052\n",
      "Epoch 78/100\n",
      "4750/4750 - 6s - loss: 0.0052\n",
      "Epoch 79/100\n",
      "4750/4750 - 5s - loss: 0.0052\n",
      "Epoch 80/100\n",
      "4750/4750 - 6s - loss: 0.0051\n",
      "Epoch 81/100\n",
      "4750/4750 - 5s - loss: 0.0052\n",
      "Epoch 82/100\n",
      "4750/4750 - 5s - loss: 0.0052\n",
      "Epoch 83/100\n",
      "4750/4750 - 5s - loss: 0.0051\n",
      "Epoch 84/100\n",
      "4750/4750 - 5s - loss: 0.0051\n",
      "Epoch 85/100\n",
      "4750/4750 - 5s - loss: 0.0051\n",
      "Epoch 86/100\n",
      "4750/4750 - 5s - loss: 0.0052\n",
      "Epoch 87/100\n",
      "4750/4750 - 5s - loss: 0.0052\n",
      "Epoch 88/100\n",
      "4750/4750 - 5s - loss: 0.0051\n",
      "Epoch 89/100\n",
      "4750/4750 - 5s - loss: 0.0052\n",
      "Epoch 90/100\n",
      "4750/4750 - 5s - loss: 0.0051\n",
      "Epoch 91/100\n",
      "4750/4750 - 5s - loss: 0.0052\n",
      "Epoch 92/100\n",
      "4750/4750 - 5s - loss: 0.0052\n",
      "Epoch 93/100\n",
      "4750/4750 - 5s - loss: 0.0051\n",
      "Epoch 94/100\n",
      "4750/4750 - 5s - loss: 0.0051\n",
      "Epoch 95/100\n",
      "4750/4750 - 5s - loss: 0.0051\n",
      "Epoch 96/100\n",
      "4750/4750 - 5s - loss: 0.0052\n",
      "Epoch 97/100\n",
      "4750/4750 - 5s - loss: 0.0051\n",
      "Epoch 98/100\n",
      "4750/4750 - 5s - loss: 0.0051\n",
      "Epoch 99/100\n",
      "4750/4750 - 5s - loss: 0.0052\n",
      "Epoch 100/100\n",
      "4750/4750 - 5s - loss: 0.0051\n"
     ]
    },
    {
     "data": {
      "text/plain": [
       "<tensorflow.python.keras.callbacks.History at 0x1a1cc005408>"
      ]
     },
     "execution_count": 199,
     "metadata": {},
     "output_type": "execute_result"
    }
   ],
   "source": [
    "model = Sequential([\n",
    "    layers.LSTM(8, input_shape=trainX.shape[-2:]),\n",
    "    layers.Dense(1)\n",
    "])\n",
    "model.compile(optimizer='adam', loss='mae')\n",
    "model.fit(trainX, trainY, epochs=100, batch_size=1, verbose=2)"
   ]
  },
  {
   "cell_type": "code",
   "execution_count": 200,
   "metadata": {},
   "outputs": [],
   "source": [
    "trainPredict = model.predict(trainX)\n",
    "testPredict = model.predict(testX)"
   ]
  },
  {
   "cell_type": "code",
   "execution_count": 201,
   "metadata": {},
   "outputs": [
    {
     "name": "stdout",
     "output_type": "stream",
     "text": [
      "Train Score: 35.15 RMSE\n",
      "Test Score: 25.54 RMSE\n"
     ]
    }
   ],
   "source": [
    "trainPredict = scaler.inverse_transform(trainPredict)\n",
    "trainY = scaler.inverse_transform([trainY])\n",
    "testPredict = scaler.inverse_transform(testPredict)\n",
    "testY = scaler.inverse_transform([testY])\n",
    "# calculate root mean squared error\n",
    "trainScore = math.sqrt(mean_squared_error(trainY[0], trainPredict[:,0]))\n",
    "print('Train Score: %.2f RMSE' % (trainScore))\n",
    "testScore = math.sqrt(mean_squared_error(testY[0], testPredict[:,0]))\n",
    "print('Test Score: %.2f RMSE' % (testScore))"
   ]
  },
  {
   "cell_type": "code",
   "execution_count": 202,
   "metadata": {},
   "outputs": [
    {
     "data": {
      "image/png": "[encoded data removed]",
      "text/plain": [
       "<Figure size 432x288 with 1 Axes>"
      ]
     },
     "metadata": {
      "needs_background": "light"
     },
     "output_type": "display_data"
    }
   ],
   "source": [
    "trainPredictPlot = numpy.empty_like(dataset)\n",
    "trainPredictPlot[:, :] = numpy.nan\n",
    "trainPredictPlot[look_back:len(trainPredict)+look_back, :] = trainPredict\n",
    "# shift test predictions for plotting\n",
    "testPredictPlot = numpy.empty_like(dataset)\n",
    "testPredictPlot[:, :] = numpy.nan\n",
    "testPredictPlot[len(trainPredict)+(look_back*2)+1:len(dataset)-1, :] = testPredict\n",
    "# plot baseline and predictions\n",
    "plt.plot(scaler.inverse_transform(dataset),label='prediction')\n",
    "plt.plot(trainPredictPlot,label='training')\n",
    "plt.plot(testPredictPlot,label='test')\n",
    "plt.legend(loc='best')\n",
    "plt.show()\n"
   ]
  },
  {
   "cell_type": "code",
   "execution_count": 204,
   "metadata": {},
   "outputs": [
    {
     "data": {
      "text/plain": [
       "array([[ 127.94165 ],\n",
       "       [ 120.4831  ],\n",
       "       [ 117.996895],\n",
       "       ...,\n",
       "       [1110.4749  ],\n",
       "       [1112.4673  ],\n",
       "       [1085.2755  ]], dtype=float32)"
      ]
     },
     "execution_count": 204,
     "metadata": {},
     "output_type": "execute_result"
    }
   ],
   "source": [
    "trainPredict"
   ]
  },
  {
   "cell_type": "code",
   "execution_count": 207,
   "metadata": {},
   "outputs": [
    {
     "data": {
      "text/plain": [
       "array([[ 107.50000398,  104.9999979 ,  104.9999979 , ..., 1107.00004271,\n",
       "        1079.69996178, 1067.00003905]])"
      ]
     },
     "execution_count": 207,
     "metadata": {},
     "output_type": "execute_result"
    }
   ],
   "source": [
    "trainY"
   ]
  },
  {
   "cell_type": "code",
   "execution_count": null,
   "metadata": {},
   "outputs": [],
   "source": [
    "df"
   ]
  },
  {
   "cell_type": "code",
   "execution_count": null,
   "metadata": {},
   "outputs": [],
   "source": [
    "model = Sequential([\n",
    "    layers.LSTM(200, activation='relu',input_shape=trainX.shape[-2:]),\n",
    "    layers.RepeatVector(1),\n",
    "    layers.LSTM(200, activation='relu',return_sequences=True),\n",
    "\n",
    "    layers.TimeDistributed(100, activation='relu'),\n",
    "    layers.TimeDistributed(1)\n",
    "    \n",
    "])\n",
    "model.compile(optimizer='adam', loss='mae')\n",
    "model.fit(trainX, trainY, epochs=100, batch_size=1, verbose=2)"
   ]
  },
  {
   "cell_type": "code",
   "execution_count": null,
   "metadata": {},
   "outputs": [],
   "source": [
    "trainX,trainY"
   ]
  },
  {
   "cell_type": "code",
   "execution_count": null,
   "metadata": {},
   "outputs": [],
   "source": [
    "trainPredict.shape"
   ]
  },
  {
   "cell_type": "code",
   "execution_count": null,
   "metadata": {},
   "outputs": [],
   "source": []
  },
  {
   "cell_type": "code",
   "execution_count": null,
   "metadata": {},
   "outputs": [],
   "source": []
  }
 ],
 "metadata": {
  "kernelspec": {
   "display_name": "Python 3",
   "language": "python",
   "name": "python3"
  },
  "language_info": {
   "codemirror_mode": {
    "name": "ipython",
    "version": 3
   },
   "file_extension": ".py",
   "mimetype": "text/x-python",
   "name": "python",
   "nbconvert_exporter": "python",
   "pygments_lexer": "ipython3",
   "version": "3.7.4"
  }
 },
 "nbformat": 4,
 "nbformat_minor": 2
}
